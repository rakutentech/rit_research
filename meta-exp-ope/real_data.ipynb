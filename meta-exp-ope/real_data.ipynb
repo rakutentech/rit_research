{
 "cells": [
  {
   "cell_type": "markdown",
   "id": "584ca062-2e80-43c3-9575-2661c5040b78",
   "metadata": {},
   "source": [
    "# Semi-synthetic environment"
   ]
  },
  {
   "cell_type": "code",
   "execution_count": 1,
   "id": "76b5eb58-5727-400b-ba2a-f4d490b51fa4",
   "metadata": {},
   "outputs": [],
   "source": [
    "%load_ext autoreload\n",
    "\n",
    "%autoreload 2"
   ]
  },
  {
   "cell_type": "code",
   "execution_count": 2,
   "id": "1439257f-c0e7-4a1f-9c1e-b692a31ae250",
   "metadata": {},
   "outputs": [
    {
     "name": "stdout",
     "output_type": "stream",
     "text": [
      "/home/foundry/jupyter/shion.ishikawa/workspace/research/zr-obp\n"
     ]
    }
   ],
   "source": [
    "cd zr-obp/\n"
   ]
  },
  {
   "cell_type": "code",
   "execution_count": 93,
   "id": "689c6389-2ae7-4142-8be6-aa06e073adfa",
   "metadata": {},
   "outputs": [],
   "source": [
    "from tqdm import tqdm\n",
    "from sklearn.linear_model import LogisticRegression\n",
    "\n",
    "from obp.ope.estimators import InverseProbabilityWeighting\n",
    "from obp.policy.linear import LinTS\n",
    "from obp.policy.contextfree import BernoulliTS, Random\n",
    "import pandas as pd\n",
    "import numpy as np\n",
    "import matplotlib.pyplot as plt\n",
    "\n",
    "from sklearn.metrics import log_loss\n",
    "from obp.dataset import SyntheticBanditDataset\n",
    "from sklearn.ensemble import RandomForestClassifier as RandomForest\n",
    "from sklearn.linear_model import LogisticRegression\n",
    "\n",
    "# import open bandit pipeline (obp)\n",
    "import obp\n",
    "from obp.dataset import (\n",
    "    SyntheticBanditDataset,\n",
    "    logistic_reward_function,\n",
    "    linear_reward_function\n",
    ")\n",
    "from obp.policy import IPWLearner, Random\n",
    "# ALEXPは、linearなsubpolicyしか使えないので検証に使わないかも\n",
    "from obp.policy.model_selection import ModelSelectionPolicy, MetaExp3P, MetaCORRAL, MetaEXPOPE\n",
    "from obp.ope import (\n",
    "    OffPolicyEvaluation, \n",
    "    RegressionModel,\n",
    "    InverseProbabilityWeighting,\n",
    "    DirectMethod,\n",
    "    DoublyRobust\n",
    ")\n",
    "import pandas as pd\n",
    "from obp.simulator.simulator import BanditEnvironmentSimulator\n",
    "from tqdm import tqdm\n",
    "import seaborn as sns\n",
    "sns.set()\n"
   ]
  },
  {
   "cell_type": "code",
   "execution_count": 321,
   "id": "701b4662-4fc8-4b16-8cce-0fea013a4f54",
   "metadata": {},
   "outputs": [],
   "source": [
    "# config\n",
    "n_rounds = 100\n",
    "num_batch = 200\n",
    "T = n_rounds * num_batch\n",
    "n_actions = 5\n",
    "dim_context = 28\n",
    "n_random_seed = 5\n",
    "#lambdas = [0, 2.5, 5, 7.5, 10]\n",
    "\n",
    "lambdas = [0, 0.25, 0.5, 2.5, 5]"
   ]
  },
  {
   "cell_type": "code",
   "execution_count": 348,
   "id": "2b6c97a5-9299-4c4d-9e2b-0a1a768135a3",
   "metadata": {},
   "outputs": [],
   "source": [
    "# create regression model with entire dataset\n",
    "df = pd.read_csv('../all.csv', index_col=0)"
   ]
  },
  {
   "cell_type": "code",
   "execution_count": 349,
   "id": "ee38d132-f933-440a-b762-fcd415f757c0",
   "metadata": {},
   "outputs": [
    {
     "data": {
      "text/plain": [
       "item_id\n",
       "0     0.002718\n",
       "1     0.002214\n",
       "2     0.001272\n",
       "3     0.002570\n",
       "4     0.001148\n",
       "        ...   \n",
       "75    0.002109\n",
       "76    0.002942\n",
       "77    0.004035\n",
       "78    0.004790\n",
       "79    0.004552\n",
       "Name: click, Length: 80, dtype: float64"
      ]
     },
     "execution_count": 349,
     "metadata": {},
     "output_type": "execute_result"
    }
   ],
   "source": [
    "df.groupby('item_id').click.mean()"
   ]
  },
  {
   "cell_type": "code",
   "execution_count": 350,
   "id": "5e0d011e-4245-4171-8b7d-4d9ba2e2080d",
   "metadata": {},
   "outputs": [],
   "source": [
    "high_ctr_bnrs = [48, 58, 39, 35, 60]"
   ]
  },
  {
   "cell_type": "code",
   "execution_count": 351,
   "id": "b1bd5836-5bea-4316-886a-3eb7530b9420",
   "metadata": {},
   "outputs": [],
   "source": [
    "df = df[df.item_id.isin(high_ctr_bnrs)]"
   ]
  },
  {
   "cell_type": "code",
   "execution_count": 352,
   "id": "959e4ceb-3890-4362-b2d5-22a9a8cea791",
   "metadata": {},
   "outputs": [],
   "source": [
    "dummy_cols = ['user_feature_0', 'user_feature_1', 'user_feature_2', 'user_feature_3']\n",
    "df = pd.get_dummies(df[['click', 'item_id'] + dummy_cols], columns=dummy_cols)"
   ]
  },
  {
   "cell_type": "code",
   "execution_count": 353,
   "id": "f219a405-8fb6-42fd-a054-f0416a832419",
   "metadata": {},
   "outputs": [],
   "source": [
    "from sklearn.preprocessing import LabelEncoder\n",
    "label_encoder = LabelEncoder()\n",
    "df.item_id = label_encoder.fit_transform(df.item_id)\n"
   ]
  },
  {
   "cell_type": "code",
   "execution_count": 311,
   "id": "93636bbd-2016-42f1-b6ab-c16bad1a8c25",
   "metadata": {},
   "outputs": [
    {
     "name": "stdout",
     "output_type": "stream",
     "text": [
      "(17335, 28)\n",
      "129\n",
      "(17396, 28)\n",
      "123\n",
      "(16576, 28)\n",
      "104\n",
      "(16913, 28)\n",
      "113\n",
      "(16325, 28)\n",
      "128\n"
     ]
    }
   ],
   "source": [
    "reward_models = {}\n",
    "for i in range(5):\n",
    "    X = df[df.item_id == i].iloc[:, 2:].values\n",
    "    y = df[df.item_id == i].click.values\n",
    "    print(X.shape)\n",
    "    print(y.sum())\n",
    "    reward_models[i] = LogisticRegression(random_state=0).fit(X, y)"
   ]
  },
  {
   "cell_type": "code",
   "execution_count": 312,
   "id": "b5ef9803-5d4d-4883-adfd-30cf43b88d19",
   "metadata": {},
   "outputs": [],
   "source": [
    "def semisync_reward_function(context, action_context, coef_function,\n",
    "                             reward_function=reward_models, random_state=42):\n",
    "    result = pd.DataFrame()\n",
    "    n_action = action_context.shape[1]\n",
    "    for action in range(n_action):\n",
    "        result[str(action)] = reward_models[action].predict_proba(context)[:, 1]\n",
    "    return result.values"
   ]
  },
  {
   "cell_type": "code",
   "execution_count": 339,
   "id": "4e7922f0-2cb3-434e-84ce-f2af9a09a288",
   "metadata": {
    "scrolled": true
   },
   "outputs": [
    {
     "name": "stderr",
     "output_type": "stream",
     "text": [
      "100%|██████████| 200/200 [00:01<00:00, 126.40it/s]\n"
     ]
    },
    {
     "name": "stdout",
     "output_type": "stream",
     "text": [
      "17201\n"
     ]
    },
    {
     "name": "stderr",
     "output_type": "stream",
     "text": [
      "100%|██████████| 200/200 [00:01<00:00, 126.83it/s]\n"
     ]
    },
    {
     "name": "stdout",
     "output_type": "stream",
     "text": [
      "16380\n"
     ]
    },
    {
     "name": "stderr",
     "output_type": "stream",
     "text": [
      "100%|██████████| 200/200 [00:01<00:00, 125.59it/s]\n"
     ]
    },
    {
     "name": "stdout",
     "output_type": "stream",
     "text": [
      "15060\n"
     ]
    },
    {
     "name": "stderr",
     "output_type": "stream",
     "text": [
      "100%|██████████| 200/200 [00:01<00:00, 125.50it/s]\n"
     ]
    },
    {
     "name": "stdout",
     "output_type": "stream",
     "text": [
      "18006\n"
     ]
    },
    {
     "name": "stderr",
     "output_type": "stream",
     "text": [
      "100%|██████████| 200/200 [00:01<00:00, 126.64it/s]"
     ]
    },
    {
     "name": "stdout",
     "output_type": "stream",
     "text": [
      "16070\n"
     ]
    },
    {
     "name": "stderr",
     "output_type": "stream",
     "text": [
      "\n"
     ]
    }
   ],
   "source": [
    "np.random.seed(0)\n",
    "regrets = []\n",
    "lam = 1\n",
    "for seed in range(n_random_seed):\n",
    "    policy = BernoulliTS(n_actions=n_actions)\n",
    "    be = BanditEnvironmentSimulator(n_actions=5, dim_context=dim_context, reward_function=semisync_reward_function)\n",
    "    regret = []\n",
    "    for i in tqdm(range(num_batch)):\n",
    "        # observe contexts\n",
    "        contexts = df.iloc[:, 2:].sample(n=n_rounds).values\n",
    "        actions = []\n",
    "        for context in contexts:\n",
    "            actions.append(policy.select_action())\n",
    "        # observe rewards\n",
    "        # adjust impact of contetual effect for reward function\n",
    "        expected = be.calc_expected_reward(contexts * lam)\n",
    "        best_actions = pd.DataFrame(expected).idxmax(axis=1)\n",
    "        regret.append((pd.Series(best_actions) != pd.Series(actions)).tolist())\n",
    "        rewards = be.sample_reward(contexts * lam)\n",
    "        actions = np.array(actions).flatten()\n",
    "        for a, r in zip(np.array(actions), rewards[np.arange(len(rewards)), np.array(actions)]):\n",
    "            policy.update_params(action=a, reward=r)\n",
    "    result = [lam]\n",
    "    print(np.array(regret).flatten().sum())\n",
    "    regrets.append(regret)"
   ]
  },
  {
   "cell_type": "code",
   "execution_count": 340,
   "id": "9f065b5d-1619-4ef9-9a38-f98ddb8b1731",
   "metadata": {},
   "outputs": [],
   "source": [
    "pd.DataFrame(regrets).to_csv('../ts_real_regret.csv')"
   ]
  },
  {
   "cell_type": "code",
   "execution_count": 341,
   "id": "3cd3f1ac-5b75-42c6-aef8-fc63b8a36bb7",
   "metadata": {},
   "outputs": [
    {
     "name": "stderr",
     "output_type": "stream",
     "text": [
      "100%|██████████| 200/200 [00:19<00:00, 10.15it/s]\n"
     ]
    },
    {
     "name": "stdout",
     "output_type": "stream",
     "text": [
      "15633\n"
     ]
    },
    {
     "name": "stderr",
     "output_type": "stream",
     "text": [
      "100%|██████████| 200/200 [00:19<00:00, 10.19it/s]\n"
     ]
    },
    {
     "name": "stdout",
     "output_type": "stream",
     "text": [
      "15827\n"
     ]
    },
    {
     "name": "stderr",
     "output_type": "stream",
     "text": [
      "100%|██████████| 200/200 [00:19<00:00, 10.24it/s]\n"
     ]
    },
    {
     "name": "stdout",
     "output_type": "stream",
     "text": [
      "15877\n"
     ]
    },
    {
     "name": "stderr",
     "output_type": "stream",
     "text": [
      "100%|██████████| 200/200 [00:19<00:00, 10.27it/s]\n"
     ]
    },
    {
     "name": "stdout",
     "output_type": "stream",
     "text": [
      "15994\n"
     ]
    },
    {
     "name": "stderr",
     "output_type": "stream",
     "text": [
      "100%|██████████| 200/200 [00:19<00:00, 10.24it/s]\n"
     ]
    },
    {
     "name": "stdout",
     "output_type": "stream",
     "text": [
      "15968\n"
     ]
    }
   ],
   "source": [
    "np.random.seed(0)\n",
    "regrets = []\n",
    "lam = 1\n",
    "for seed in range(n_random_seed):\n",
    "    policy = LinTS(dim=dim_context, n_actions=n_actions)\n",
    "    be = BanditEnvironmentSimulator(n_actions=5, dim_context=dim_context, reward_function=semisync_reward_function)\n",
    "    regret = []\n",
    "    for i in tqdm(range(num_batch)):\n",
    "        # observe contexts\n",
    "        contexts = df.iloc[:, 2:].sample(n=n_rounds).values\n",
    "        actions = []\n",
    "        for context in contexts:\n",
    "            actions.append(policy.select_action(context))\n",
    "        # observe rewards\n",
    "        # adjust impact of contetual effect for reward function\n",
    "        expected = be.calc_expected_reward(contexts * lam)\n",
    "        best_actions = pd.DataFrame(expected).idxmax(axis=1)\n",
    "        regret.append((pd.Series(best_actions) != pd.Series(actions)).tolist())\n",
    "        rewards = be.sample_reward(contexts * lam)\n",
    "        actions = np.array(actions).flatten()\n",
    "        for a, r, c in zip(np.array(actions), rewards[np.arange(len(rewards)), np.array(actions)], contexts):\n",
    "            policy.update_params(action=a, reward=r, context=np.array(c[np.newaxis, :]))\n",
    "    result = [lam]\n",
    "    print(np.array(regret).flatten().sum())\n",
    "    regrets.append(regret)"
   ]
  },
  {
   "cell_type": "code",
   "execution_count": 343,
   "id": "d22a18bc-8d30-4edf-8a25-04166505a47b",
   "metadata": {},
   "outputs": [],
   "source": [
    "pd.DataFrame(regrets).to_csv('../lints_real_regret.csv')"
   ]
  },
  {
   "cell_type": "code",
   "execution_count": null,
   "id": "950fa412-b123-4671-a3b2-af4016aee3a4",
   "metadata": {},
   "outputs": [],
   "source": [
    "# まあ本質とは関係ないので、しれっとTSとLinTSを使っていることを言うか"
   ]
  },
  {
   "cell_type": "code",
   "execution_count": 328,
   "id": "157ea4f3-c2a2-46b4-9bf8-23fef7784ddf",
   "metadata": {},
   "outputs": [
    {
     "name": "stderr",
     "output_type": "stream",
     "text": [
      "100%|██████████| 200/200 [00:29<00:00,  6.71it/s]\n"
     ]
    },
    {
     "name": "stdout",
     "output_type": "stream",
     "text": [
      "15171\n"
     ]
    },
    {
     "name": "stderr",
     "output_type": "stream",
     "text": [
      "100%|██████████| 200/200 [00:29<00:00,  6.70it/s]\n"
     ]
    },
    {
     "name": "stdout",
     "output_type": "stream",
     "text": [
      "15555\n"
     ]
    },
    {
     "name": "stderr",
     "output_type": "stream",
     "text": [
      "100%|██████████| 200/200 [00:29<00:00,  6.73it/s]\n"
     ]
    },
    {
     "name": "stdout",
     "output_type": "stream",
     "text": [
      "16267\n"
     ]
    },
    {
     "name": "stderr",
     "output_type": "stream",
     "text": [
      "100%|██████████| 200/200 [00:29<00:00,  6.67it/s]\n"
     ]
    },
    {
     "name": "stdout",
     "output_type": "stream",
     "text": [
      "16647\n"
     ]
    },
    {
     "name": "stderr",
     "output_type": "stream",
     "text": [
      "100%|██████████| 200/200 [00:29<00:00,  6.74it/s]"
     ]
    },
    {
     "name": "stdout",
     "output_type": "stream",
     "text": [
      "15849\n"
     ]
    },
    {
     "name": "stderr",
     "output_type": "stream",
     "text": [
      "\n"
     ]
    }
   ],
   "source": [
    "# meta exp ope\n",
    "np.random.seed(0)\n",
    "regrets = []\n",
    "lam = 1\n",
    "for seed in range(n_random_seed):\n",
    "    be = BanditEnvironmentSimulator(n_actions=5, dim_context=dim_context, reward_function=semisync_reward_function)\n",
    "    lints = LinTS(dim=dim_context, n_actions=n_actions)\n",
    "    ts = BernoulliTS(n_actions=n_actions)\n",
    "    policy = MetaEXPOPE(dim=dim_context, policies=[lints, ts], n_actions=n_actions, T=T)\n",
    "    regret = []\n",
    "    for i in tqdm(range(num_batch)):\n",
    "        # observe contexts\n",
    "        contexts = df.iloc[:, 2:].sample(n=n_rounds).values\n",
    "        actions = []\n",
    "        for context in contexts:\n",
    "            actions.append(policy.select_action(context))\n",
    "        # observe rewards\n",
    "        # adjust impact of contetual effect for reward function\n",
    "        expected = be.calc_expected_reward(contexts * lam)\n",
    "        best_actions = pd.DataFrame(expected).idxmax(axis=1)\n",
    "        regret.append((pd.Series(best_actions) != pd.Series(actions)).tolist())\n",
    "        rewards = be.sample_reward(contexts * lam)\n",
    "        actions = np.array(actions).flatten()\n",
    "        policy.update_params(action=np.array(actions), reward=rewards[np.arange(len(rewards)), actions], context=contexts)\n",
    "    result = [lam]\n",
    "    print(np.array(regret).flatten().sum())\n",
    "    regrets.append(regret)"
   ]
  },
  {
   "cell_type": "code",
   "execution_count": 329,
   "id": "904834e0-d1ec-4603-8453-d4308f9093d7",
   "metadata": {},
   "outputs": [],
   "source": [
    "pd.DataFrame(regrets).to_csv('../metaexp3ope_real_regret.csv')"
   ]
  },
  {
   "cell_type": "code",
   "execution_count": null,
   "id": "60d50123-5ff5-477c-b264-a7e9d08dfd6a",
   "metadata": {},
   "outputs": [],
   "source": [
    "# 結局non-personalized/personalzied両方のケースでうまくいくことを言いたい"
   ]
  },
  {
   "cell_type": "code",
   "execution_count": 354,
   "id": "0ac4c88e-6162-4914-a177-c14c75e5b43a",
   "metadata": {},
   "outputs": [
    {
     "name": "stderr",
     "output_type": "stream",
     "text": [
      "100%|██████████| 200/200 [00:12<00:00, 16.56it/s]\n"
     ]
    },
    {
     "name": "stdout",
     "output_type": "stream",
     "text": [
      "15958\n"
     ]
    },
    {
     "name": "stderr",
     "output_type": "stream",
     "text": [
      "100%|██████████| 200/200 [00:11<00:00, 16.78it/s]\n"
     ]
    },
    {
     "name": "stdout",
     "output_type": "stream",
     "text": [
      "15948\n"
     ]
    },
    {
     "name": "stderr",
     "output_type": "stream",
     "text": [
      "100%|██████████| 200/200 [00:12<00:00, 16.56it/s]\n"
     ]
    },
    {
     "name": "stdout",
     "output_type": "stream",
     "text": [
      "15295\n"
     ]
    },
    {
     "name": "stderr",
     "output_type": "stream",
     "text": [
      "100%|██████████| 200/200 [00:12<00:00, 16.53it/s]\n"
     ]
    },
    {
     "name": "stdout",
     "output_type": "stream",
     "text": [
      "15961\n"
     ]
    },
    {
     "name": "stderr",
     "output_type": "stream",
     "text": [
      "100%|██████████| 200/200 [00:11<00:00, 16.81it/s]"
     ]
    },
    {
     "name": "stdout",
     "output_type": "stream",
     "text": [
      "16542\n"
     ]
    },
    {
     "name": "stderr",
     "output_type": "stream",
     "text": [
      "\n"
     ]
    }
   ],
   "source": [
    "# meta exp3p\n",
    "np.random.seed(0)\n",
    "regrets = []\n",
    "lam = 1\n",
    "for seed in range(n_random_seed):\n",
    "    be = BanditEnvironmentSimulator(n_actions=5, dim_context=dim_context, reward_function=semisync_reward_function)\n",
    "    lints = LinTS(dim=dim_context, n_actions=n_actions)\n",
    "    ts = BernoulliTS(n_actions=n_actions)\n",
    "    policy = MetaExp3P(dim=dim_context, policies=[lints, ts], n_actions=n_actions)\n",
    "    regret = []\n",
    "    for i in tqdm(range(num_batch)):\n",
    "        # observe contexts\n",
    "        contexts = df.iloc[:, 2:].sample(n=n_rounds).values\n",
    "        actions = []\n",
    "        for context in contexts:\n",
    "            actions.append(policy.select_action(context))\n",
    "        # observe rewards\n",
    "        # adjust impact of contetual effect for reward function\n",
    "        expected = be.calc_expected_reward(contexts * lam)\n",
    "        best_actions = pd.DataFrame(expected).idxmax(axis=1)\n",
    "        regret.append((pd.Series(best_actions) != pd.Series(actions)).tolist())\n",
    "        rewards = be.sample_reward(contexts * lam)\n",
    "        actions = np.array(actions).flatten()\n",
    "        policy.update_params(action=np.array(actions), reward=rewards[np.arange(len(rewards)), actions], context=contexts)\n",
    "    result = [lam]\n",
    "    print(np.array(regret).flatten().sum())\n",
    "    regrets.append(regret)"
   ]
  },
  {
   "cell_type": "code",
   "execution_count": 355,
   "id": "6383b33d-309c-4a09-a36b-aca3f7299252",
   "metadata": {},
   "outputs": [],
   "source": [
    "pd.DataFrame(regrets).to_csv('../metaexp3p_real_regret.csv')"
   ]
  },
  {
   "cell_type": "code",
   "execution_count": 333,
   "id": "6757c70b-e05a-4917-af71-a7c5bddf6656",
   "metadata": {},
   "outputs": [
    {
     "name": "stderr",
     "output_type": "stream",
     "text": [
      "100%|██████████| 200/200 [00:10<00:00, 19.20it/s]\n"
     ]
    },
    {
     "name": "stdout",
     "output_type": "stream",
     "text": [
      "16077\n"
     ]
    },
    {
     "name": "stderr",
     "output_type": "stream",
     "text": [
      "100%|██████████| 200/200 [00:10<00:00, 19.35it/s]\n"
     ]
    },
    {
     "name": "stdout",
     "output_type": "stream",
     "text": [
      "17412\n"
     ]
    },
    {
     "name": "stderr",
     "output_type": "stream",
     "text": [
      "100%|██████████| 200/200 [00:14<00:00, 13.55it/s]\n"
     ]
    },
    {
     "name": "stdout",
     "output_type": "stream",
     "text": [
      "15952\n"
     ]
    },
    {
     "name": "stderr",
     "output_type": "stream",
     "text": [
      "100%|██████████| 200/200 [00:07<00:00, 25.13it/s]\n"
     ]
    },
    {
     "name": "stdout",
     "output_type": "stream",
     "text": [
      "16173\n"
     ]
    },
    {
     "name": "stderr",
     "output_type": "stream",
     "text": [
      "100%|██████████| 200/200 [00:13<00:00, 15.14it/s]"
     ]
    },
    {
     "name": "stdout",
     "output_type": "stream",
     "text": [
      "15886\n"
     ]
    },
    {
     "name": "stderr",
     "output_type": "stream",
     "text": [
      "\n"
     ]
    }
   ],
   "source": [
    "# meta exp3p\n",
    "np.random.seed(0)\n",
    "regrets = []\n",
    "lam = 1\n",
    "for seed in range(n_random_seed):\n",
    "    be = BanditEnvironmentSimulator(n_actions=5, dim_context=dim_context, reward_function=semisync_reward_function)\n",
    "    lints = LinTS(dim=dim_context, n_actions=n_actions)\n",
    "    ts = BernoulliTS(n_actions=n_actions)\n",
    "    policy = MetaCORRAL(dim=dim_context, policies=[lints, ts], n_actions=n_actions, T=T)\n",
    "    regret = []\n",
    "    for i in tqdm(range(num_batch)):\n",
    "        # observe contexts\n",
    "        contexts = df.iloc[:, 2:].sample(n=n_rounds).values\n",
    "        actions = []\n",
    "        for context in contexts:\n",
    "            actions.append(policy.select_action(context))\n",
    "        # observe rewards\n",
    "        # adjust impact of contetual effect for reward function\n",
    "        expected = be.calc_expected_reward(contexts * lam)\n",
    "        best_actions = pd.DataFrame(expected).idxmax(axis=1)\n",
    "        regret.append((pd.Series(best_actions) != pd.Series(actions)).tolist())\n",
    "        rewards = be.sample_reward(contexts * lam)\n",
    "        actions = np.array(actions).flatten()\n",
    "        policy.update_params(action=np.array(actions), reward=rewards[np.arange(len(rewards)), actions], context=contexts)\n",
    "    result = [lam]\n",
    "    print(np.array(regret).flatten().sum())\n",
    "    regrets.append(regret)"
   ]
  },
  {
   "cell_type": "code",
   "execution_count": 334,
   "id": "d0468405-591f-44e4-8726-e290de6c2b3f",
   "metadata": {},
   "outputs": [],
   "source": [
    "pd.DataFrame(regrets).to_csv('../metacorral_real_regret.csv')"
   ]
  },
  {
   "cell_type": "code",
   "execution_count": 337,
   "id": "54191ecd-ade3-4378-ab96-40df6ea438dd",
   "metadata": {},
   "outputs": [
    {
     "name": "stderr",
     "output_type": "stream",
     "text": [
      "100%|██████████| 200/200 [00:34<00:00,  5.81it/s]\n"
     ]
    },
    {
     "name": "stdout",
     "output_type": "stream",
     "text": [
      "15725\n"
     ]
    },
    {
     "name": "stderr",
     "output_type": "stream",
     "text": [
      "100%|██████████| 200/200 [00:36<00:00,  5.55it/s]\n"
     ]
    },
    {
     "name": "stdout",
     "output_type": "stream",
     "text": [
      "15739\n"
     ]
    },
    {
     "name": "stderr",
     "output_type": "stream",
     "text": [
      "100%|██████████| 200/200 [00:35<00:00,  5.57it/s]\n"
     ]
    },
    {
     "name": "stdout",
     "output_type": "stream",
     "text": [
      "15838\n"
     ]
    },
    {
     "name": "stderr",
     "output_type": "stream",
     "text": [
      "100%|██████████| 200/200 [00:34<00:00,  5.73it/s]\n"
     ]
    },
    {
     "name": "stdout",
     "output_type": "stream",
     "text": [
      "15825\n"
     ]
    },
    {
     "name": "stderr",
     "output_type": "stream",
     "text": [
      "100%|██████████| 200/200 [00:35<00:00,  5.67it/s]"
     ]
    },
    {
     "name": "stdout",
     "output_type": "stream",
     "text": [
      "15936\n"
     ]
    },
    {
     "name": "stderr",
     "output_type": "stream",
     "text": [
      "\n"
     ]
    }
   ],
   "source": [
    "# meta exp3p\n",
    "np.random.seed(0)\n",
    "regrets = []\n",
    "lam = 1\n",
    "for seed in range(n_random_seed):\n",
    "    be = BanditEnvironmentSimulator(n_actions=5, dim_context=dim_context, reward_function=semisync_reward_function)\n",
    "    lints = LinTS(dim=dim_context, n_actions=n_actions)\n",
    "    ts = BernoulliTS(n_actions=n_actions)\n",
    "    policy = ModelSelectionPolicy(dim=dim_context, mode='OPE', policies=[lints, ts], n_actions=n_actions, epsilon=0.1)\n",
    "    regret = []\n",
    "    for i in tqdm(range(num_batch)):\n",
    "        # observe contexts\n",
    "        contexts = df.iloc[:, 2:].sample(n=n_rounds).values\n",
    "        actions = []\n",
    "        for context in contexts:\n",
    "            actions.append(policy.select_action(context))\n",
    "        # observe rewards\n",
    "        # adjust impact of contetual effect for reward function\n",
    "        expected = be.calc_expected_reward(contexts * lam)\n",
    "        best_actions = pd.DataFrame(expected).idxmax(axis=1)\n",
    "        regret.append((pd.Series(best_actions) != pd.Series(actions)).tolist())\n",
    "        rewards = be.sample_reward(contexts * lam)\n",
    "        actions = np.array(actions).flatten()\n",
    "        policy.update_params(action=np.array(actions), reward=rewards[np.arange(len(rewards)), actions], context=contexts)\n",
    "    result = [lam]\n",
    "    print(np.array(regret).flatten().sum())\n",
    "    regrets.append(regret)"
   ]
  },
  {
   "cell_type": "code",
   "execution_count": 338,
   "id": "a6a0c25a-db09-4f42-adac-2843da488be8",
   "metadata": {},
   "outputs": [],
   "source": [
    "pd.DataFrame(regrets).to_csv('../metagreedyope_eps0.1_real_regret.csv')"
   ]
  },
  {
   "cell_type": "markdown",
   "id": "ed17dd31-0d92-49fc-af51-aca46e457d88",
   "metadata": {},
   "source": [
    "# Regret Analysis"
   ]
  },
  {
   "cell_type": "code",
   "execution_count": 363,
   "id": "8114e7d6-0b2e-40cd-8635-7fd920c96c0e",
   "metadata": {},
   "outputs": [],
   "source": [
    "models = ['metaexp3ope', 'metaexp3p', 'metagreedyope_eps0.1', 'metacorral', 'lints', 'ts']"
   ]
  },
  {
   "cell_type": "code",
   "execution_count": 395,
   "id": "965cb726-bdfb-4f24-a690-f624e7618391",
   "metadata": {},
   "outputs": [],
   "source": [
    "al = pd.DataFrame()\n",
    "for model in models:\n",
    "    df = pd.read_csv(f'../{model}_real_regret.csv', index_col=0)\n",
    "    lis = []\n",
    "    for i in range(df.shape[0]):\n",
    "        li = []\n",
    "        for j in range(df.shape[1]):\n",
    "            li += eval(df.iloc[i, j])\n",
    "        lis.append(li)\n",
    "    \n",
    "    regrets = pd.DataFrame(lis).cumsum(axis=1)\n",
    "    regrets['model'] = model\n",
    "    al = pd.concat([al, regrets], axis=0)\n"
   ]
  },
  {
   "cell_type": "code",
   "execution_count": 396,
   "id": "add7adb5-40a5-4598-ba01-840bf0053fda",
   "metadata": {},
   "outputs": [],
   "source": [
    "al = pd.melt(al.iloc[:, ::1000], id_vars='model')\n"
   ]
  },
  {
   "cell_type": "code",
   "execution_count": 397,
   "id": "e38ddc1c-9ed1-4251-af0e-11b639b0f639",
   "metadata": {},
   "outputs": [
    {
     "data": {
      "text/plain": [
       "Text(0.5, 0, 'steps')"
      ]
     },
     "execution_count": 397,
     "metadata": {},
     "output_type": "execute_result"
    },
    {
     "data": {
      "image/png": "[encoded data removed]",
      "text/plain": [
       "<Figure size 640x480 with 1 Axes>"
      ]
     },
     "metadata": {},
     "output_type": "display_data"
    }
   ],
   "source": [
    "sns.lineplot(data=al, x='variable', y='value', hue='model', palette='deep')\n",
    "plt.ylabel(f'regret')\n",
    "plt.xlabel(f'steps')\n",
    "#plt.title(f'{fname}')"
   ]
  },
  {
   "cell_type": "code",
   "execution_count": 399,
   "id": "9d33b48a-4806-4f8e-b539-a982bfad046f",
   "metadata": {},
   "outputs": [],
   "source": [
    "al = pd.DataFrame()\n",
    "for model in models:\n",
    "    df = pd.read_csv(f'../{model}_real_regret.csv', index_col=0)\n",
    "    lis = []\n",
    "    for i in range(df.shape[0]):\n",
    "        li = []\n",
    "        for j in range(df.shape[1]):\n",
    "            li += eval(df.iloc[i, j])\n",
    "        lis.append(li)\n",
    "    \n",
    "    regrets = pd.DataFrame(lis).cumsum(axis=1)\n",
    "    al[model] = regrets.iloc[:, -1]\n"
   ]
  },
  {
   "cell_type": "code",
   "execution_count": 400,
   "id": "ba74b1cf-e777-45fb-b5e9-1c3a3719a91c",
   "metadata": {},
   "outputs": [],
   "source": [
    "al = pd.melt(al)\n"
   ]
  },
  {
   "cell_type": "code",
   "execution_count": 404,
   "id": "113535d0-d7de-4ca8-bda5-916a6ef88fa5",
   "metadata": {},
   "outputs": [
    {
     "data": {
      "text/plain": [
       "variable\n",
       "lints                   15859.8\n",
       "metacorral              16300.0\n",
       "metaexp3ope             15897.8\n",
       "metaexp3p               15940.8\n",
       "metagreedyope_eps0.1    15812.6\n",
       "ts                      16543.4\n",
       "Name: value, dtype: float64"
      ]
     },
     "execution_count": 404,
     "metadata": {},
     "output_type": "execute_result"
    }
   ],
   "source": [
    "al.groupby('variable').value.mean()"
   ]
  },
  {
   "cell_type": "code",
   "execution_count": 413,
   "id": "29e37126-2f3c-4e32-8fca-6ba1430340b4",
   "metadata": {},
   "outputs": [
    {
     "data": {
      "text/plain": [
       "variable\n",
       "lints                    143.6\n",
       "metacorral               631.4\n",
       "metaexp3ope              580.0\n",
       "metaexp3p                441.4\n",
       "metagreedyope_eps0.1      85.3\n",
       "ts                      1120.6\n",
       "Name: value, dtype: float64"
      ]
     },
     "execution_count": 413,
     "metadata": {},
     "output_type": "execute_result"
    }
   ],
   "source": [
    "al.groupby('variable').value.std().apply(lambda x: round(x, 1))"
   ]
  },
  {
   "cell_type": "code",
   "execution_count": null,
   "id": "da09a1d9-349c-4728-a6da-cfc1052cf31c",
   "metadata": {},
   "outputs": [],
   "source": []
  }
 ],
 "metadata": {
  "kernelspec": {
   "display_name": "Python 3 (ipykernel)",
   "language": "python",
   "name": "python3"
  },
  "language_info": {
   "codemirror_mode": {
    "name": "ipython",
    "version": 3
   },
   "file_extension": ".py",
   "mimetype": "text/x-python",
   "name": "python",
   "nbconvert_exporter": "python",
   "pygments_lexer": "ipython3",
   "version": "3.11.5"
  }
 },
 "nbformat": 4,
 "nbformat_minor": 5
}
