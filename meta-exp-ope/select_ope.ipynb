{
 "cells": [
  {
   "cell_type": "markdown",
   "id": "42dc2f4a-157f-43e2-90cf-dfeda60dac3b",
   "metadata": {},
   "source": [
    "# Evaluationg OPE estimators"
   ]
  },
  {
   "cell_type": "code",
   "execution_count": 1,
   "id": "e5bb4657-c837-4867-86ab-d536cbd5a065",
   "metadata": {},
   "outputs": [],
   "source": [
    "%load_ext autoreload\n",
    "\n",
    "%autoreload 2"
   ]
  },
  {
   "cell_type": "code",
   "execution_count": 2,
   "id": "101d5f08-bf2a-47b2-8070-b0e3ecc6624d",
   "metadata": {},
   "outputs": [
    {
     "name": "stdout",
     "output_type": "stream",
     "text": [
      "/home/foundry/jupyter/shion.ishikawa/workspace/research/zr-obp\n"
     ]
    }
   ],
   "source": [
    "cd zr-obp/\n"
   ]
  },
  {
   "cell_type": "code",
   "execution_count": 3,
   "id": "94c3ee30-191c-4f41-b938-27b34bdf9c41",
   "metadata": {},
   "outputs": [],
   "source": [
    "from tqdm import tqdm\n",
    "\n",
    "from obp.ope.estimators import InverseProbabilityWeighting\n",
    "from obp.policy.linear import LinTS\n",
    "from obp.policy.contextfree import BernoulliTS, Random\n",
    "import pandas as pd\n",
    "import numpy as np\n",
    "import matplotlib.pyplot as plt\n",
    "\n",
    "from sklearn.metrics import log_loss\n",
    "from obp.dataset import SyntheticBanditDataset\n",
    "from sklearn.ensemble import RandomForestClassifier as RandomForest\n",
    "from sklearn.linear_model import LogisticRegression\n",
    "\n",
    "# import open bandit pipeline (obp)\n",
    "import obp\n",
    "from obp.dataset import (\n",
    "    SyntheticBanditDataset,\n",
    "    logistic_reward_function,\n",
    "    linear_reward_function\n",
    ")\n",
    "from obp.policy import IPWLearner, Random\n",
    "# ALEXPは、linearなsubpolicyしか使えないので検証に使わないかも\n",
    "from obp.policy.model_selection import ModelSelectionPolicy, MetaExp3P, MetaCORRAL, MetaEXPOPE\n",
    "from obp.ope import (\n",
    "    OffPolicyEvaluation, \n",
    "    RegressionModel,\n",
    "    InverseProbabilityWeighting,\n",
    "    DirectMethod,\n",
    "    DoublyRobust\n",
    ")\n",
    "import pandas as pd\n",
    "from obp.simulator.simulator import BanditEnvironmentSimulator\n",
    "from tqdm import tqdm\n",
    "import seaborn as sns\n",
    "sns.set()\n"
   ]
  },
  {
   "cell_type": "code",
   "execution_count": 4,
   "id": "103dc7c7-5a47-4afa-ac8a-ed13898d272e",
   "metadata": {},
   "outputs": [],
   "source": [
    "# config\n",
    "n_rounds = 100\n",
    "num_batch = 200\n",
    "T = n_rounds * num_batch\n",
    "n_actions = 5\n",
    "dim_context = 5\n",
    "n_random_seed = 5\n",
    "#lambdas = [0, 2.5, 5, 7.5, 10]\n",
    "\n",
    "lambdas = [0, 5]"
   ]
  },
  {
   "cell_type": "markdown",
   "id": "b07ba304-0d36-4582-9ccd-89dafb065545",
   "metadata": {},
   "source": [
    "# MetaGreedyOPE\n"
   ]
  },
  {
   "cell_type": "code",
   "execution_count": 5,
   "id": "6b7d1a6c-2120-4d3f-8560-44a1e51bfb85",
   "metadata": {
    "jupyter": {
     "source_hidden": true
    }
   },
   "outputs": [
    {
     "name": "stdout",
     "output_type": "stream",
     "text": [
      "lambda: 0\n"
     ]
    },
    {
     "name": "stderr",
     "output_type": "stream",
     "text": [
      "100%|██████████| 200/200 [00:15<00:00, 12.97it/s]\n"
     ]
    },
    {
     "name": "stdout",
     "output_type": "stream",
     "text": [
      "[0, 11579, 7438] 11325\n"
     ]
    },
    {
     "name": "stderr",
     "output_type": "stream",
     "text": [
      "100%|██████████| 200/200 [00:15<00:00, 13.03it/s]\n"
     ]
    },
    {
     "name": "stdout",
     "output_type": "stream",
     "text": [
      "[0, 11304, 7718] 11695\n"
     ]
    },
    {
     "name": "stderr",
     "output_type": "stream",
     "text": [
      "100%|██████████| 200/200 [00:15<00:00, 13.07it/s]\n"
     ]
    },
    {
     "name": "stdout",
     "output_type": "stream",
     "text": [
      "[0, 11200, 7794] 11516\n"
     ]
    },
    {
     "name": "stderr",
     "output_type": "stream",
     "text": [
      "100%|██████████| 200/200 [00:15<00:00, 13.14it/s]\n"
     ]
    },
    {
     "name": "stdout",
     "output_type": "stream",
     "text": [
      "[0, 11196, 7843] 11798\n"
     ]
    },
    {
     "name": "stderr",
     "output_type": "stream",
     "text": [
      "100%|██████████| 200/200 [00:15<00:00, 13.01it/s]\n"
     ]
    },
    {
     "name": "stdout",
     "output_type": "stream",
     "text": [
      "[0, 11557, 7432] 11410\n",
      "lambda: 5\n"
     ]
    },
    {
     "name": "stderr",
     "output_type": "stream",
     "text": [
      "100%|██████████| 200/200 [00:17<00:00, 11.36it/s]\n"
     ]
    },
    {
     "name": "stdout",
     "output_type": "stream",
     "text": [
      "[5, 17174, 1823] 8115\n"
     ]
    },
    {
     "name": "stderr",
     "output_type": "stream",
     "text": [
      "100%|██████████| 200/200 [00:17<00:00, 11.41it/s]\n"
     ]
    },
    {
     "name": "stdout",
     "output_type": "stream",
     "text": [
      "[5, 17048, 1924] 7499\n"
     ]
    },
    {
     "name": "stderr",
     "output_type": "stream",
     "text": [
      "100%|██████████| 200/200 [00:17<00:00, 11.40it/s]\n"
     ]
    },
    {
     "name": "stdout",
     "output_type": "stream",
     "text": [
      "[5, 17184, 1809] 7311\n"
     ]
    },
    {
     "name": "stderr",
     "output_type": "stream",
     "text": [
      "100%|██████████| 200/200 [00:17<00:00, 11.43it/s]\n"
     ]
    },
    {
     "name": "stdout",
     "output_type": "stream",
     "text": [
      "[5, 17107, 1935] 8428\n"
     ]
    },
    {
     "name": "stderr",
     "output_type": "stream",
     "text": [
      "100%|██████████| 200/200 [00:17<00:00, 11.31it/s]"
     ]
    },
    {
     "name": "stdout",
     "output_type": "stream",
     "text": [
      "[5, 17280, 1757] 7852\n"
     ]
    },
    {
     "name": "stderr",
     "output_type": "stream",
     "text": [
      "\n"
     ]
    }
   ],
   "source": [
    "# IPW\n",
    "np.random.seed(0)\n",
    "results = []\n",
    "regrets = []\n",
    "for lam in lambdas:\n",
    "    print('lambda:', lam)\n",
    "    for seed in range(n_random_seed):\n",
    "        lints = LinTS(dim=dim_context, n_actions=n_actions)\n",
    "        ts = BernoulliTS(n_actions=n_actions)\n",
    "        be = BanditEnvironmentSimulator(n_actions=n_actions, dim_context=dim_context, reward_function=logistic_reward_function)\n",
    "        policy = MetaEXPOPE(dim=5, policies=[lints, ts], n_actions=n_actions, T=T)\n",
    "        regret = []\n",
    "        for i in tqdm(range(num_batch)):\n",
    "            # observe contexts\n",
    "            contexts = be.next_context_batch(n_rounds=n_rounds )\n",
    "            actions = []\n",
    "            for context in contexts:\n",
    "                actions.append(policy.select_action(context))\n",
    "            # observe rewards\n",
    "            # adjust impact of contetual effect for reward function\n",
    "            expected = be.calc_expected_reward(contexts * lam)\n",
    "            best_actions = pd.DataFrame(expected).idxmax(axis=1)\n",
    "            regret.append((pd.Series(best_actions) != pd.Series(actions)).tolist())\n",
    "            rewards = be.sample_reward(contexts * lam)\n",
    "            policy.update_params(action=np.array(actions), reward=rewards[np.arange(len(rewards)), actions], context=contexts)\n",
    "        result = [lam]\n",
    "        for policy_index in range(2):\n",
    "            result.append((pd.Series(policy.selected_policies) == policy_index).sum())\n",
    "        print(result, np.array(regret).flatten().sum())\n",
    "        results.append(result)\n",
    "        regrets.append(regret)\n"
   ]
  },
  {
   "cell_type": "code",
   "execution_count": 6,
   "id": "a2de9b88-7cca-4118-ba14-4fb93280e3ca",
   "metadata": {},
   "outputs": [],
   "source": [
    "ipw_results = results\n",
    "ipw_regrets = regrets"
   ]
  },
  {
   "cell_type": "markdown",
   "id": "949485d4-0b3d-4c3b-88d5-085939921ec4",
   "metadata": {},
   "source": [
    "# DirectMethod"
   ]
  },
  {
   "cell_type": "code",
   "execution_count": 7,
   "id": "f52d8da3-4fe6-4de5-a4a3-2f851f853f62",
   "metadata": {},
   "outputs": [
    {
     "name": "stdout",
     "output_type": "stream",
     "text": [
      "lambda: 0\n"
     ]
    },
    {
     "name": "stderr",
     "output_type": "stream",
     "text": [
      "100%|██████████| 200/200 [00:23<00:00,  8.62it/s]\n"
     ]
    },
    {
     "name": "stdout",
     "output_type": "stream",
     "text": [
      "[0, 8206, 10813] 8832\n"
     ]
    },
    {
     "name": "stderr",
     "output_type": "stream",
     "text": [
      "100%|██████████| 200/200 [00:22<00:00,  8.73it/s]\n"
     ]
    },
    {
     "name": "stdout",
     "output_type": "stream",
     "text": [
      "[0, 8534, 10458] 9058\n"
     ]
    },
    {
     "name": "stderr",
     "output_type": "stream",
     "text": [
      "100%|██████████| 200/200 [00:25<00:00,  7.92it/s]\n"
     ]
    },
    {
     "name": "stdout",
     "output_type": "stream",
     "text": [
      "[0, 8376, 10622] 8830\n"
     ]
    },
    {
     "name": "stderr",
     "output_type": "stream",
     "text": [
      "100%|██████████| 200/200 [00:27<00:00,  7.28it/s]\n"
     ]
    },
    {
     "name": "stdout",
     "output_type": "stream",
     "text": [
      "[0, 8301, 10698] 9114\n"
     ]
    },
    {
     "name": "stderr",
     "output_type": "stream",
     "text": [
      "100%|██████████| 200/200 [00:23<00:00,  8.48it/s]\n"
     ]
    },
    {
     "name": "stdout",
     "output_type": "stream",
     "text": [
      "[0, 8314, 10653] 8758\n",
      "lambda: 5\n"
     ]
    },
    {
     "name": "stderr",
     "output_type": "stream",
     "text": [
      "100%|██████████| 200/200 [00:26<00:00,  7.69it/s]\n"
     ]
    },
    {
     "name": "stdout",
     "output_type": "stream",
     "text": [
      "[5, 9692, 9268] 11093\n"
     ]
    },
    {
     "name": "stderr",
     "output_type": "stream",
     "text": [
      "100%|██████████| 200/200 [00:21<00:00,  9.39it/s]\n"
     ]
    },
    {
     "name": "stdout",
     "output_type": "stream",
     "text": [
      "[5, 9575, 9469] 11329\n"
     ]
    },
    {
     "name": "stderr",
     "output_type": "stream",
     "text": [
      "100%|██████████| 200/200 [00:24<00:00,  8.28it/s]\n"
     ]
    },
    {
     "name": "stdout",
     "output_type": "stream",
     "text": [
      "[5, 9597, 9430] 11249\n"
     ]
    },
    {
     "name": "stderr",
     "output_type": "stream",
     "text": [
      "100%|██████████| 200/200 [00:26<00:00,  7.41it/s]\n"
     ]
    },
    {
     "name": "stdout",
     "output_type": "stream",
     "text": [
      "[5, 9472, 9472] 11345\n"
     ]
    },
    {
     "name": "stderr",
     "output_type": "stream",
     "text": [
      "100%|██████████| 200/200 [00:21<00:00,  9.27it/s]"
     ]
    },
    {
     "name": "stdout",
     "output_type": "stream",
     "text": [
      "[5, 9525, 9436] 11155\n"
     ]
    },
    {
     "name": "stderr",
     "output_type": "stream",
     "text": [
      "\n"
     ]
    }
   ],
   "source": [
    "\n",
    "np.random.seed(0)\n",
    "results = []\n",
    "regrets = []\n",
    "for lam in lambdas:\n",
    "    print('lambda:', lam)\n",
    "    for seed in range(n_random_seed):\n",
    "        lints = LinTS(dim=dim_context, n_actions=n_actions)\n",
    "        ts = BernoulliTS(n_actions=n_actions)\n",
    "        be = BanditEnvironmentSimulator(n_actions=n_actions, dim_context=dim_context, reward_function=logistic_reward_function)\n",
    "        policy = MetaEXPOPE(ope='DM', dim=5, policies=[lints, ts], n_actions=n_actions, T=T)\n",
    "        regret = []\n",
    "        for i in tqdm(range(num_batch)):\n",
    "            # observe contexts\n",
    "            contexts = be.next_context_batch(n_rounds=n_rounds )\n",
    "            actions = []\n",
    "            for context in contexts:\n",
    "                actions.append(policy.select_action(context))\n",
    "            # observe rewards\n",
    "            # adjust impact of contetual effect for reward function\n",
    "            expected = be.calc_expected_reward(contexts * lam)\n",
    "            best_actions = pd.DataFrame(expected).idxmax(axis=1)\n",
    "            regret.append((pd.Series(best_actions) != pd.Series(actions)).tolist())\n",
    "            rewards = be.sample_reward(contexts * lam)\n",
    "            policy.update_params(action=np.array(actions), reward=rewards[np.arange(len(rewards)), actions], context=contexts)\n",
    "        result = [lam]\n",
    "        for policy_index in range(2):\n",
    "            result.append((pd.Series(policy.selected_policies) == policy_index).sum())\n",
    "        print(result, np.array(regret).flatten().sum())\n",
    "        results.append(result)\n",
    "        regrets.append(regret)\n"
   ]
  },
  {
   "cell_type": "code",
   "execution_count": 8,
   "id": "27f24943-92de-455b-a2ef-e15c6203b58c",
   "metadata": {},
   "outputs": [],
   "source": [
    "dm_results = results\n",
    "dm_regrets = regrets"
   ]
  },
  {
   "cell_type": "markdown",
   "id": "0c81096d-06f8-4acb-a1a0-65c0ab94153b",
   "metadata": {},
   "source": [
    "- DM is not unbiased OPE but I utilized DM just for comparison"
   ]
  },
  {
   "cell_type": "markdown",
   "id": "b6318d11-607a-43a6-aaa0-3d6700602986",
   "metadata": {},
   "source": [
    "# Doubly Robust"
   ]
  },
  {
   "cell_type": "code",
   "execution_count": 9,
   "id": "21d7f1e6-dea7-4c6c-80b8-3efad9f25a79",
   "metadata": {},
   "outputs": [
    {
     "name": "stdout",
     "output_type": "stream",
     "text": [
      "lambda: 0\n"
     ]
    },
    {
     "name": "stderr",
     "output_type": "stream",
     "text": [
      "100%|██████████| 200/200 [00:27<00:00,  7.39it/s]\n"
     ]
    },
    {
     "name": "stdout",
     "output_type": "stream",
     "text": [
      "[0, 8426, 10556] 9098\n"
     ]
    },
    {
     "name": "stderr",
     "output_type": "stream",
     "text": [
      "100%|██████████| 200/200 [00:30<00:00,  6.58it/s]\n"
     ]
    },
    {
     "name": "stdout",
     "output_type": "stream",
     "text": [
      "[0, 8348, 10641] 9010\n"
     ]
    },
    {
     "name": "stderr",
     "output_type": "stream",
     "text": [
      "100%|██████████| 200/200 [00:25<00:00,  7.93it/s]\n"
     ]
    },
    {
     "name": "stdout",
     "output_type": "stream",
     "text": [
      "[0, 8351, 10647] 8646\n"
     ]
    },
    {
     "name": "stderr",
     "output_type": "stream",
     "text": [
      "100%|██████████| 200/200 [00:25<00:00,  8.00it/s]\n"
     ]
    },
    {
     "name": "stdout",
     "output_type": "stream",
     "text": [
      "[0, 8330, 10694] 8843\n"
     ]
    },
    {
     "name": "stderr",
     "output_type": "stream",
     "text": [
      "100%|██████████| 200/200 [00:29<00:00,  6.72it/s]\n"
     ]
    },
    {
     "name": "stdout",
     "output_type": "stream",
     "text": [
      "[0, 8321, 10693] 8342\n",
      "lambda: 5\n"
     ]
    },
    {
     "name": "stderr",
     "output_type": "stream",
     "text": [
      "100%|██████████| 200/200 [00:25<00:00,  7.81it/s]\n"
     ]
    },
    {
     "name": "stdout",
     "output_type": "stream",
     "text": [
      "[5, 10815, 8172] 10529\n"
     ]
    },
    {
     "name": "stderr",
     "output_type": "stream",
     "text": [
      "100%|██████████| 200/200 [00:27<00:00,  7.28it/s]\n"
     ]
    },
    {
     "name": "stdout",
     "output_type": "stream",
     "text": [
      "[5, 11072, 7958] 10582\n"
     ]
    },
    {
     "name": "stderr",
     "output_type": "stream",
     "text": [
      "100%|██████████| 200/200 [00:23<00:00,  8.62it/s]\n"
     ]
    },
    {
     "name": "stdout",
     "output_type": "stream",
     "text": [
      "[5, 11164, 7861] 10554\n"
     ]
    },
    {
     "name": "stderr",
     "output_type": "stream",
     "text": [
      "100%|██████████| 200/200 [00:22<00:00,  8.96it/s]\n"
     ]
    },
    {
     "name": "stdout",
     "output_type": "stream",
     "text": [
      "[5, 11001, 7993] 10814\n"
     ]
    },
    {
     "name": "stderr",
     "output_type": "stream",
     "text": [
      "100%|██████████| 200/200 [00:27<00:00,  7.24it/s]"
     ]
    },
    {
     "name": "stdout",
     "output_type": "stream",
     "text": [
      "[5, 11022, 7964] 10440\n"
     ]
    },
    {
     "name": "stderr",
     "output_type": "stream",
     "text": [
      "\n"
     ]
    }
   ],
   "source": [
    "\n",
    "np.random.seed(0)\n",
    "results = []\n",
    "regrets = []\n",
    "for lam in lambdas:\n",
    "    print('lambda:', lam)\n",
    "    for seed in range(n_random_seed):\n",
    "        lints = LinTS(dim=dim_context, n_actions=n_actions)\n",
    "        ts = BernoulliTS(n_actions=n_actions)\n",
    "        be = BanditEnvironmentSimulator(n_actions=n_actions, dim_context=dim_context, reward_function=logistic_reward_function)\n",
    "        policy = MetaEXPOPE(ope='DR', dim=5, policies=[lints, ts], n_actions=n_actions, T=T)\n",
    "        regret = []\n",
    "        for i in tqdm(range(num_batch)):\n",
    "            # observe contexts\n",
    "            contexts = be.next_context_batch(n_rounds=n_rounds )\n",
    "            actions = []\n",
    "            for context in contexts:\n",
    "                actions.append(policy.select_action(context))\n",
    "            # observe rewards\n",
    "            # adjust impact of contetual effect for reward function\n",
    "            expected = be.calc_expected_reward(contexts * lam)\n",
    "            best_actions = pd.DataFrame(expected).idxmax(axis=1)\n",
    "            regret.append((pd.Series(best_actions) != pd.Series(actions)).tolist())\n",
    "            rewards = be.sample_reward(contexts * lam)\n",
    "            policy.update_params(action=np.array(actions), reward=rewards[np.arange(len(rewards)), actions], context=contexts)\n",
    "        result = [lam]\n",
    "        for policy_index in range(2):\n",
    "            result.append((pd.Series(policy.selected_policies) == policy_index).sum())\n",
    "        print(result, np.array(regret).flatten().sum())\n",
    "        results.append(result)\n",
    "        regrets.append(regret)\n"
   ]
  },
  {
   "cell_type": "code",
   "execution_count": 10,
   "id": "dc8bdfc2-ac5f-4650-a31f-c63e78fe4a31",
   "metadata": {},
   "outputs": [],
   "source": [
    "dr_results = results\n",
    "dr_regrets = regrets"
   ]
  },
  {
   "cell_type": "code",
   "execution_count": 11,
   "id": "6b13313d-996f-489e-9ce7-2790cc5706d9",
   "metadata": {},
   "outputs": [],
   "source": [
    "al = pd.DataFrame()\n",
    "for regret, name in zip([ipw_regrets, dm_regrets, dr_regrets], ['IPW', 'DM', 'DR']):\n",
    "    df = pd.DataFrame(regret)\n",
    "    lis = []\n",
    "    for i in range(df.shape[0]):\n",
    "        li = []\n",
    "        for j in range(df.shape[1]):\n",
    "            li += df.iloc[i, j]\n",
    "        lis.append(li)\n",
    "    regrets = pd.DataFrame(lis, index=np.repeat(lambdas, repeats=5)).cumsum(axis=1)\n",
    "    regrets['lambda'] = regrets.index\n",
    "    al[name] = regrets.iloc[:, -2]\n"
   ]
  },
  {
   "cell_type": "code",
   "execution_count": 12,
   "id": "218b85e6-532e-4782-b97c-2158b190cf89",
   "metadata": {},
   "outputs": [],
   "source": [
    "al['lambda'] = al.index\n",
    "\n",
    "al = pd.melt(al, id_vars='lambda')"
   ]
  },
  {
   "cell_type": "code",
   "execution_count": 13,
   "id": "d43cea2a-6852-48ab-95b6-c22129f547a2",
   "metadata": {},
   "outputs": [
    {
     "data": {
      "text/plain": [
       "<matplotlib.legend.Legend at 0x7fcaaf2ce250>"
      ]
     },
     "execution_count": 13,
     "metadata": {},
     "output_type": "execute_result"
    },
    {
     "data": {
      "image/png": "[encoded data removed]",
      "text/plain": [
       "<Figure size 600x500 with 1 Axes>"
      ]
     },
     "metadata": {},
     "output_type": "display_data"
    }
   ],
   "source": [
    "plt.figure(figsize=(6, 5), facecolor=\"w\")\n",
    "\n",
    "sns.barplot(data=al, x='lambda', y='value', hue='variable')\n",
    "plt.ylabel('Cumulative regret')\n",
    "plt.xlabel('λ (influence of contextual features)')\n",
    "plt.legend( loc='lower right', fontsize=11)\n",
    "#plt.tight_layout()"
   ]
  },
  {
   "cell_type": "code",
   "execution_count": 14,
   "id": "a0fd622a-5c71-4db5-9574-4daea0ed9c96",
   "metadata": {},
   "outputs": [
    {
     "data": {
      "text/html": [
       "<div>\n",
       "<style scoped>\n",
       "    .dataframe tbody tr th:only-of-type {\n",
       "        vertical-align: middle;\n",
       "    }\n",
       "\n",
       "    .dataframe tbody tr th {\n",
       "        vertical-align: top;\n",
       "    }\n",
       "\n",
       "    .dataframe thead th {\n",
       "        text-align: right;\n",
       "    }\n",
       "</style>\n",
       "<table border=\"1\" class=\"dataframe\">\n",
       "  <thead>\n",
       "    <tr style=\"text-align: right;\">\n",
       "      <th></th>\n",
       "      <th>lambda</th>\n",
       "      <th>variable</th>\n",
       "      <th>value</th>\n",
       "    </tr>\n",
       "  </thead>\n",
       "  <tbody>\n",
       "    <tr>\n",
       "      <th>0</th>\n",
       "      <td>0</td>\n",
       "      <td>IPW</td>\n",
       "      <td>11325</td>\n",
       "    </tr>\n",
       "    <tr>\n",
       "      <th>1</th>\n",
       "      <td>0</td>\n",
       "      <td>IPW</td>\n",
       "      <td>11695</td>\n",
       "    </tr>\n",
       "    <tr>\n",
       "      <th>2</th>\n",
       "      <td>0</td>\n",
       "      <td>IPW</td>\n",
       "      <td>11516</td>\n",
       "    </tr>\n",
       "    <tr>\n",
       "      <th>3</th>\n",
       "      <td>0</td>\n",
       "      <td>IPW</td>\n",
       "      <td>11798</td>\n",
       "    </tr>\n",
       "    <tr>\n",
       "      <th>4</th>\n",
       "      <td>0</td>\n",
       "      <td>IPW</td>\n",
       "      <td>11410</td>\n",
       "    </tr>\n",
       "    <tr>\n",
       "      <th>5</th>\n",
       "      <td>5</td>\n",
       "      <td>IPW</td>\n",
       "      <td>8115</td>\n",
       "    </tr>\n",
       "    <tr>\n",
       "      <th>6</th>\n",
       "      <td>5</td>\n",
       "      <td>IPW</td>\n",
       "      <td>7499</td>\n",
       "    </tr>\n",
       "    <tr>\n",
       "      <th>7</th>\n",
       "      <td>5</td>\n",
       "      <td>IPW</td>\n",
       "      <td>7311</td>\n",
       "    </tr>\n",
       "    <tr>\n",
       "      <th>8</th>\n",
       "      <td>5</td>\n",
       "      <td>IPW</td>\n",
       "      <td>8428</td>\n",
       "    </tr>\n",
       "    <tr>\n",
       "      <th>9</th>\n",
       "      <td>5</td>\n",
       "      <td>IPW</td>\n",
       "      <td>7852</td>\n",
       "    </tr>\n",
       "    <tr>\n",
       "      <th>10</th>\n",
       "      <td>0</td>\n",
       "      <td>DM</td>\n",
       "      <td>8832</td>\n",
       "    </tr>\n",
       "    <tr>\n",
       "      <th>11</th>\n",
       "      <td>0</td>\n",
       "      <td>DM</td>\n",
       "      <td>9058</td>\n",
       "    </tr>\n",
       "    <tr>\n",
       "      <th>12</th>\n",
       "      <td>0</td>\n",
       "      <td>DM</td>\n",
       "      <td>8830</td>\n",
       "    </tr>\n",
       "    <tr>\n",
       "      <th>13</th>\n",
       "      <td>0</td>\n",
       "      <td>DM</td>\n",
       "      <td>9114</td>\n",
       "    </tr>\n",
       "    <tr>\n",
       "      <th>14</th>\n",
       "      <td>0</td>\n",
       "      <td>DM</td>\n",
       "      <td>8758</td>\n",
       "    </tr>\n",
       "    <tr>\n",
       "      <th>15</th>\n",
       "      <td>5</td>\n",
       "      <td>DM</td>\n",
       "      <td>11093</td>\n",
       "    </tr>\n",
       "    <tr>\n",
       "      <th>16</th>\n",
       "      <td>5</td>\n",
       "      <td>DM</td>\n",
       "      <td>11329</td>\n",
       "    </tr>\n",
       "    <tr>\n",
       "      <th>17</th>\n",
       "      <td>5</td>\n",
       "      <td>DM</td>\n",
       "      <td>11249</td>\n",
       "    </tr>\n",
       "    <tr>\n",
       "      <th>18</th>\n",
       "      <td>5</td>\n",
       "      <td>DM</td>\n",
       "      <td>11345</td>\n",
       "    </tr>\n",
       "    <tr>\n",
       "      <th>19</th>\n",
       "      <td>5</td>\n",
       "      <td>DM</td>\n",
       "      <td>11155</td>\n",
       "    </tr>\n",
       "    <tr>\n",
       "      <th>20</th>\n",
       "      <td>0</td>\n",
       "      <td>DR</td>\n",
       "      <td>9098</td>\n",
       "    </tr>\n",
       "    <tr>\n",
       "      <th>21</th>\n",
       "      <td>0</td>\n",
       "      <td>DR</td>\n",
       "      <td>9010</td>\n",
       "    </tr>\n",
       "    <tr>\n",
       "      <th>22</th>\n",
       "      <td>0</td>\n",
       "      <td>DR</td>\n",
       "      <td>8646</td>\n",
       "    </tr>\n",
       "    <tr>\n",
       "      <th>23</th>\n",
       "      <td>0</td>\n",
       "      <td>DR</td>\n",
       "      <td>8843</td>\n",
       "    </tr>\n",
       "    <tr>\n",
       "      <th>24</th>\n",
       "      <td>0</td>\n",
       "      <td>DR</td>\n",
       "      <td>8342</td>\n",
       "    </tr>\n",
       "    <tr>\n",
       "      <th>25</th>\n",
       "      <td>5</td>\n",
       "      <td>DR</td>\n",
       "      <td>10529</td>\n",
       "    </tr>\n",
       "    <tr>\n",
       "      <th>26</th>\n",
       "      <td>5</td>\n",
       "      <td>DR</td>\n",
       "      <td>10582</td>\n",
       "    </tr>\n",
       "    <tr>\n",
       "      <th>27</th>\n",
       "      <td>5</td>\n",
       "      <td>DR</td>\n",
       "      <td>10554</td>\n",
       "    </tr>\n",
       "    <tr>\n",
       "      <th>28</th>\n",
       "      <td>5</td>\n",
       "      <td>DR</td>\n",
       "      <td>10814</td>\n",
       "    </tr>\n",
       "    <tr>\n",
       "      <th>29</th>\n",
       "      <td>5</td>\n",
       "      <td>DR</td>\n",
       "      <td>10440</td>\n",
       "    </tr>\n",
       "  </tbody>\n",
       "</table>\n",
       "</div>"
      ],
      "text/plain": [
       "    lambda variable  value\n",
       "0        0      IPW  11325\n",
       "1        0      IPW  11695\n",
       "2        0      IPW  11516\n",
       "3        0      IPW  11798\n",
       "4        0      IPW  11410\n",
       "5        5      IPW   8115\n",
       "6        5      IPW   7499\n",
       "7        5      IPW   7311\n",
       "8        5      IPW   8428\n",
       "9        5      IPW   7852\n",
       "10       0       DM   8832\n",
       "11       0       DM   9058\n",
       "12       0       DM   8830\n",
       "13       0       DM   9114\n",
       "14       0       DM   8758\n",
       "15       5       DM  11093\n",
       "16       5       DM  11329\n",
       "17       5       DM  11249\n",
       "18       5       DM  11345\n",
       "19       5       DM  11155\n",
       "20       0       DR   9098\n",
       "21       0       DR   9010\n",
       "22       0       DR   8646\n",
       "23       0       DR   8843\n",
       "24       0       DR   8342\n",
       "25       5       DR  10529\n",
       "26       5       DR  10582\n",
       "27       5       DR  10554\n",
       "28       5       DR  10814\n",
       "29       5       DR  10440"
      ]
     },
     "execution_count": 14,
     "metadata": {},
     "output_type": "execute_result"
    }
   ],
   "source": [
    "al"
   ]
  },
  {
   "cell_type": "code",
   "execution_count": null,
   "id": "e515dcd0-85bf-4dbc-aa11-84fba0b67055",
   "metadata": {},
   "outputs": [],
   "source": []
  }
 ],
 "metadata": {
  "kernelspec": {
   "display_name": "Python 3 (ipykernel)",
   "language": "python",
   "name": "python3"
  },
  "language_info": {
   "codemirror_mode": {
    "name": "ipython",
    "version": 3
   },
   "file_extension": ".py",
   "mimetype": "text/x-python",
   "name": "python",
   "nbconvert_exporter": "python",
   "pygments_lexer": "ipython3",
   "version": "3.11.5"
  }
 },
 "nbformat": 4,
 "nbformat_minor": 5
}
